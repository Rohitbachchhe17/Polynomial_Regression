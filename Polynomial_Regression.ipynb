{
  "nbformat": 4,
  "nbformat_minor": 0,
  "metadata": {
    "colab": {
      "private_outputs": true,
      "provenance": [],
      "authorship_tag": "ABX9TyODmoBm3hJ++m0l/KJH+IoO",
      "include_colab_link": true
    },
    "kernelspec": {
      "name": "python3",
      "display_name": "Python 3"
    },
    "language_info": {
      "name": "python"
    }
  },
  "cells": [
    {
      "cell_type": "markdown",
      "metadata": {
        "id": "view-in-github",
        "colab_type": "text"
      },
      "source": [
        "<a href=\"https://colab.research.google.com/github/Rohitbachchhe17/Polynomial_Regression/blob/main/Polynomial_Regression.ipynb\" target=\"_parent\"><img src=\"https://colab.research.google.com/assets/colab-badge.svg\" alt=\"Open In Colab\"/></a>"
      ]
    },
    {
      "cell_type": "code",
      "source": [
        "import numpy as nm\n",
        "import matplotlib.pyplot as mtp\n",
        "import pandas as pd"
      ],
      "metadata": {
        "id": "Ep6kaKb4v_ai"
      },
      "execution_count": null,
      "outputs": []
    },
    {
      "cell_type": "code",
      "source": [
        "#importing datasets\n",
        "data_set= pd.read_csv('Position_Salaries.csv')\n",
        "data_set.head()"
      ],
      "metadata": {
        "id": "k8uWgGRLwEEI"
      },
      "execution_count": null,
      "outputs": []
    },
    {
      "cell_type": "code",
      "source": [
        "#Extracting Independent and dependent Variable\n",
        "x= data_set.iloc[:, 1:2].values\n",
        "y= data_set.iloc[:, 2].values"
      ],
      "metadata": {
        "id": "uBnSW048wP9O"
      },
      "execution_count": null,
      "outputs": []
    },
    {
      "cell_type": "code",
      "source": [
        "#Fitting the Linear Regression to the dataset\n",
        "from sklearn.linear_model import LinearRegression\n",
        "lin_regs= LinearRegression()\n",
        "lin_regs.fit(x,y)"
      ],
      "metadata": {
        "id": "4dz9GQzTwegb"
      },
      "execution_count": null,
      "outputs": []
    },
    {
      "cell_type": "code",
      "source": [
        " #Fitting the Polynomial regression to the dataset\n",
        "from sklearn.preprocessing import PolynomialFeatures\n",
        "poly_regs= PolynomialFeatures(degree= 2)\n",
        "x_poly= poly_regs.fit_transform(x)\n",
        "lin_reg_2 =LinearRegression()\n",
        "lin_reg_2.fit(x_poly, y)"
      ],
      "metadata": {
        "id": "B48giCFZwf5C"
      },
      "execution_count": null,
      "outputs": []
    },
    {
      "cell_type": "code",
      "source": [
        "#Visulaizing the result for Linear Regression model\n",
        "mtp.scatter(x,y,color=\"blue\")\n",
        "mtp.plot(x,lin_regs.predict(x), color=\"red\")\n",
        "mtp.title(\"Bluff detection model(Linear Regression)\")\n",
        "mtp.xlabel(\"Position Levels\")\n",
        "mtp.ylabel(\"Salary\")\n",
        "mtp.show()"
      ],
      "metadata": {
        "id": "rPJP32CZwtnA"
      },
      "execution_count": null,
      "outputs": []
    },
    {
      "cell_type": "code",
      "source": [
        "#Visulaizing the result for Polynomial Regression\n",
        "mtp.scatter(x,y,color=\"blue\")\n",
        "mtp.plot(x, lin_reg_2.predict(poly_regs.fit_transform(x)), color=\"red\")\n",
        "mtp.title(\"Bluff detection model(Polynomial Regression)\")\n",
        "mtp.xlabel(\"Position Levels\")\n",
        "mtp.ylabel(\"Salary\")\n",
        "mtp.show()"
      ],
      "metadata": {
        "id": "7SrI9kQaw5o3"
      },
      "execution_count": null,
      "outputs": []
    },
    {
      "cell_type": "code",
      "source": [
        "lin_pred = lin_regs.predict([[6.5]])\n",
        "print(lin_pred)"
      ],
      "metadata": {
        "id": "eJOwVjvMw_SH"
      },
      "execution_count": null,
      "outputs": []
    },
    {
      "cell_type": "code",
      "source": [
        "poly_pred = lin_reg_2.predict(poly_regs.fit_transform([[6.5]]))\n",
        "print(poly_pred)"
      ],
      "metadata": {
        "id": "t62gAK5PxAUe"
      },
      "execution_count": null,
      "outputs": []
    }
  ]
}